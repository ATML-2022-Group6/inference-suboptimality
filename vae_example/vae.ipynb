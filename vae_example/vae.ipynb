{
 "cells": [
  {
   "cell_type": "code",
   "execution_count": 21,
   "metadata": {},
   "outputs": [],
   "source": [
    "import os\n",
    "import time\n",
    "\n",
    "import matplotlib.pyplot as plt\n",
    "\n",
    "import jax\n",
    "import jax.numpy as jnp\n",
    "from jax import jit, grad, lax, random\n",
    "from jax.example_libraries import optimizers\n",
    "from jax.example_libraries import stax\n",
    "from jax.example_libraries.stax import Dense, FanOut, Relu, Softplus\n",
    "import datasets"
   ]
  },
  {
   "cell_type": "code",
   "execution_count": 22,
   "metadata": {},
   "outputs": [],
   "source": [
    "def gaussian_kl(mu, sigmasq):\n",
    "  \"\"\"KL divergence from a diagonal Gaussian to the standard Gaussian.\"\"\"\n",
    "  return -0.5 * jnp.sum(1. + jnp.log(sigmasq) - mu**2. - sigmasq)\n",
    "\n",
    "def gaussian_sample(rng, mu, sigmasq):\n",
    "  \"\"\"Sample a diagonal Gaussian.\"\"\"\n",
    "  return mu + jnp.sqrt(sigmasq) * random.normal(rng, mu.shape)\n",
    "\n",
    "def bernoulli_logpdf(logits, x):\n",
    "  \"\"\"Bernoulli log pdf of data x given logits.\"\"\"\n",
    "  return -jnp.sum(jnp.logaddexp(0., jnp.where(x, -1., 1.) * logits))\n",
    "\n",
    "def elbo(rng, params, images):\n",
    "  \"\"\"Monte Carlo estimate of the negative evidence lower bound.\"\"\"\n",
    "  enc_params, dec_params = params\n",
    "  mu_z, sigmasq_z = encode(enc_params, images)\n",
    "  logits_x = decode(dec_params, gaussian_sample(rng, mu_z, sigmasq_z))\n",
    "  return bernoulli_logpdf(logits_x, images) - gaussian_kl(mu_z, sigmasq_z)\n",
    "\n",
    "def image_sample(rng, params, nrow, ncol):\n",
    "  \"\"\"Sample images from the generative model.\"\"\"\n",
    "  _, dec_params = params\n",
    "  code_rng, img_rng = random.split(rng)\n",
    "  logits = decode(dec_params, random.normal(code_rng, (nrow * ncol, 10)))\n",
    "  sampled_images = random.bernoulli(img_rng, jnp.logaddexp(0., logits))\n",
    "  return image_grid(nrow, ncol, sampled_images, (28, 28))\n",
    "\n",
    "def image_grid(nrow, ncol, imagevecs, imshape):\n",
    "  \"\"\"Reshape a stack of image vectors into an image grid for plotting.\"\"\"\n",
    "  images = iter(imagevecs.reshape((-1,) + imshape))\n",
    "  return jnp.vstack([jnp.hstack([next(images).T for _ in range(ncol)][::-1])\n",
    "                    for _ in range(nrow)]).T"
   ]
  },
  {
   "cell_type": "code",
   "execution_count": 23,
   "metadata": {},
   "outputs": [],
   "source": [
    "encoder_init, encode = stax.serial(\n",
    "  Dense(512), Relu,\n",
    "  Dense(512), Relu,\n",
    "  FanOut(2),\n",
    "  stax.parallel(Dense(10), stax.serial(Dense(10), Softplus)),\n",
    ")\n",
    "\n",
    "decoder_init, decode = stax.serial(\n",
    "  Dense(512), Relu,\n",
    "  Dense(512), Relu,\n",
    "  Dense(28 * 28),\n",
    ")"
   ]
  },
  {
   "cell_type": "code",
   "execution_count": 24,
   "metadata": {},
   "outputs": [
    {
     "ename": "TypeError",
     "evalue": "an integer is required (got type str)",
     "output_type": "error",
     "traceback": [
      "\u001b[0;31m---------------------------------------------------------------------------\u001b[0m",
      "\u001b[0;31mTypeError\u001b[0m                                 Traceback (most recent call last)",
      "\u001b[0;32m/var/folders/zv/9_csyfpx68z_fjbh1fw3f4w80000gn/T/ipykernel_53884/3744077046.py\u001b[0m in \u001b[0;36m<module>\u001b[0;34m\u001b[0m\n\u001b[1;32m      6\u001b[0m \u001b[0mtest_rng\u001b[0m \u001b[0;34m=\u001b[0m \u001b[0mrandom\u001b[0m\u001b[0;34m.\u001b[0m\u001b[0mPRNGKey\u001b[0m\u001b[0;34m(\u001b[0m\u001b[0;36m1\u001b[0m\u001b[0;34m)\u001b[0m  \u001b[0;31m# fixed prng key for evaluation\u001b[0m\u001b[0;34m\u001b[0m\u001b[0;34m\u001b[0m\u001b[0m\n\u001b[1;32m      7\u001b[0m \u001b[0;31m# imfile = os.path.join(os.getenv(\"TMPDIR\", \"/tmp/\"), \"mnist_vae_{:03d}.png\")\u001b[0m\u001b[0;34m\u001b[0m\u001b[0;34m\u001b[0m\u001b[0m\n\u001b[0;32m----> 8\u001b[0;31m \u001b[0mos\u001b[0m\u001b[0;34m.\u001b[0m\u001b[0mmakedirs\u001b[0m\u001b[0;34m(\u001b[0m\u001b[0mos\u001b[0m\u001b[0;34m.\u001b[0m\u001b[0mgetcwd\u001b[0m\u001b[0;34m(\u001b[0m\u001b[0;34m)\u001b[0m\u001b[0;34m,\u001b[0m \u001b[0;34m\"tmp\"\u001b[0m\u001b[0;34m)\u001b[0m\u001b[0;34m\u001b[0m\u001b[0;34m\u001b[0m\u001b[0m\n\u001b[0m\u001b[1;32m      9\u001b[0m \u001b[0mimfile\u001b[0m \u001b[0;34m=\u001b[0m \u001b[0mos\u001b[0m\u001b[0;34m.\u001b[0m\u001b[0mpath\u001b[0m\u001b[0;34m.\u001b[0m\u001b[0mjoin\u001b[0m\u001b[0;34m(\u001b[0m\u001b[0mos\u001b[0m\u001b[0;34m.\u001b[0m\u001b[0mgetcwd\u001b[0m\u001b[0;34m(\u001b[0m\u001b[0;34m)\u001b[0m\u001b[0;34m,\u001b[0m \u001b[0;34m\"tmp\"\u001b[0m\u001b[0;34m,\u001b[0m \u001b[0;34m\"mnist_vae_{:03d}.png\"\u001b[0m\u001b[0;34m)\u001b[0m\u001b[0;34m\u001b[0m\u001b[0;34m\u001b[0m\u001b[0m\n\u001b[1;32m     10\u001b[0m \u001b[0;34m\u001b[0m\u001b[0m\n",
      "\u001b[0;32m/usr/local/Caskroom/miniconda/base/envs/ml/lib/python3.9/os.py\u001b[0m in \u001b[0;36mmakedirs\u001b[0;34m(name, mode, exist_ok)\u001b[0m\n\u001b[1;32m    223\u001b[0m             \u001b[0;32mreturn\u001b[0m\u001b[0;34m\u001b[0m\u001b[0;34m\u001b[0m\u001b[0m\n\u001b[1;32m    224\u001b[0m     \u001b[0;32mtry\u001b[0m\u001b[0;34m:\u001b[0m\u001b[0;34m\u001b[0m\u001b[0;34m\u001b[0m\u001b[0m\n\u001b[0;32m--> 225\u001b[0;31m         \u001b[0mmkdir\u001b[0m\u001b[0;34m(\u001b[0m\u001b[0mname\u001b[0m\u001b[0;34m,\u001b[0m \u001b[0mmode\u001b[0m\u001b[0;34m)\u001b[0m\u001b[0;34m\u001b[0m\u001b[0;34m\u001b[0m\u001b[0m\n\u001b[0m\u001b[1;32m    226\u001b[0m     \u001b[0;32mexcept\u001b[0m \u001b[0mOSError\u001b[0m\u001b[0;34m:\u001b[0m\u001b[0;34m\u001b[0m\u001b[0;34m\u001b[0m\u001b[0m\n\u001b[1;32m    227\u001b[0m         \u001b[0;31m# Cannot rely on checking for EEXIST, since the operating system\u001b[0m\u001b[0;34m\u001b[0m\u001b[0;34m\u001b[0m\u001b[0m\n",
      "\u001b[0;31mTypeError\u001b[0m: an integer is required (got type str)"
     ]
    }
   ],
   "source": [
    "step_size = 0.001\n",
    "num_epochs = 10\n",
    "batch_size = 32\n",
    "nrow, ncol = 10, 10  # sampled image grid size\n",
    "\n",
    "test_rng = random.PRNGKey(1)  # fixed prng key for evaluation\n",
    "# imfile = os.path.join(os.getenv(\"TMPDIR\", \"/tmp/\"), \"mnist_vae_{:03d}.png\")\n",
    "os.makedirs(os.path.join(os.getcwd(), \"tmp\"))\n",
    "imfile = os.path.join(os.getcwd(), \"tmp\", \"mnist_vae_{:03d}.png\")\n",
    "\n",
    "train_images, _, test_images, _ = datasets.mnist(permute_train=True)\n",
    "num_complete_batches, leftover = divmod(train_images.shape[0], batch_size)\n",
    "num_batches = num_complete_batches + bool(leftover)\n",
    "\n",
    "enc_init_rng, dec_init_rng = random.split(random.PRNGKey(2))\n",
    "_, init_encoder_params = encoder_init(enc_init_rng, (batch_size, 28 * 28))\n",
    "_, init_decoder_params = decoder_init(dec_init_rng, (batch_size, 10))\n",
    "init_params = init_encoder_params, init_decoder_params\n",
    "\n",
    "opt_init, opt_update, get_params = optimizers.momentum(step_size, mass=0.9)\n",
    "\n",
    "train_images = jax.device_put(train_images)\n",
    "test_images = jax.device_put(test_images)\n",
    "\n",
    "def binarize_batch(rng, i, images):\n",
    "  i = i % num_batches\n",
    "  batch = lax.dynamic_slice_in_dim(images, i * batch_size, batch_size)\n",
    "  return random.bernoulli(rng, batch)\n",
    "\n",
    "@jit\n",
    "def run_epoch(rng, opt_state, images):\n",
    "  def body_fun(i, opt_state):\n",
    "    elbo_rng, data_rng = random.split(random.fold_in(rng, i))\n",
    "    batch = binarize_batch(data_rng, i, images)\n",
    "    loss = lambda params: -elbo(elbo_rng, params, batch) / batch_size\n",
    "    g = grad(loss)(get_params(opt_state))\n",
    "    return opt_update(i, g, opt_state)\n",
    "  return lax.fori_loop(0, num_batches, body_fun, opt_state)\n",
    "\n",
    "@jit\n",
    "def evaluate(opt_state, images):\n",
    "  params = get_params(opt_state)\n",
    "  elbo_rng, data_rng, image_rng = random.split(test_rng, 3)\n",
    "  binarized_test = random.bernoulli(data_rng, images)\n",
    "  test_elbo = elbo(elbo_rng, params, binarized_test) / images.shape[0]\n",
    "  sampled_images = image_sample(image_rng, params, nrow, ncol)\n",
    "  return test_elbo, sampled_images\n",
    "\n",
    "opt_state = opt_init(init_params)\n",
    "for epoch in range(num_epochs):\n",
    "  tic = time.time()\n",
    "  opt_state = run_epoch(random.PRNGKey(epoch), opt_state, train_images)\n",
    "  test_elbo, sampled_images = evaluate(opt_state, test_images)\n",
    "  print(\"{: 3d} {} ({:.3f} sec)\".format(epoch, test_elbo, time.time() - tic))\n",
    "  plt.imsave(imfile.format(epoch), sampled_images, cmap=plt.cm.gray)"
   ]
  }
 ],
 "metadata": {
  "interpreter": {
   "hash": "d905c6a59c21f0f46be93fdc832728644d115a3fdfd57971d06d899b53e0576e"
  },
  "kernelspec": {
   "display_name": "Python 3.9.7 ('ml')",
   "language": "python",
   "name": "python3"
  },
  "language_info": {
   "codemirror_mode": {
    "name": "ipython",
    "version": 3
   },
   "file_extension": ".py",
   "mimetype": "text/x-python",
   "name": "python",
   "nbconvert_exporter": "python",
   "pygments_lexer": "ipython3",
   "version": "3.9.7"
  },
  "orig_nbformat": 4
 },
 "nbformat": 4,
 "nbformat_minor": 2
}
